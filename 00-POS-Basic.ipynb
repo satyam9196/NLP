{
 "cells": [
  {
   "cell_type": "code",
   "execution_count": 1,
   "id": "64d6301a-6eac-4e3a-b96f-2cdc9af02181",
   "metadata": {},
   "outputs": [],
   "source": [
    "# Perform standard imports\n",
    "import spacy\n",
    "nlp = spacy.load('en_core_web_sm')"
   ]
  },
  {
   "cell_type": "code",
   "execution_count": 2,
   "id": "49cf0fb9-09e4-4f64-81b6-0a166bee8335",
   "metadata": {},
   "outputs": [],
   "source": [
    "# creae a simple Doc object\n",
    "doc = nlp(u\"The quick  brown fox jumped over the lazy dog's back.\")"
   ]
  },
  {
   "cell_type": "code",
   "execution_count": null,
   "id": "a089b6ed-bf9a-4818-8ec7-b3cc1b5e5d77",
   "metadata": {},
   "outputs": [],
   "source": [
    "#View token tags"
   ]
  },
  {
   "cell_type": "code",
   "execution_count": 3,
   "id": "d9644040-d215-4457-9475-0b39110f0180",
   "metadata": {},
   "outputs": [
    {
     "name": "stdout",
     "output_type": "stream",
     "text": [
      "The quick  brown fox jumped over the lazy dog's back.\n"
     ]
    }
   ],
   "source": [
    "# print the full text:\n",
    "print(doc.text)"
   ]
  },
  {
   "cell_type": "code",
   "execution_count": 4,
   "id": "bcb1b91b-8c2c-4618-8c66-ee424ad12c68",
   "metadata": {},
   "outputs": [
    {
     "name": "stdout",
     "output_type": "stream",
     "text": [
      "fox NOUN NN noun, singular or mass\n"
     ]
    }
   ],
   "source": [
    "# Print the fifth word and associayted tags:\n",
    "print(doc[4].text,doc[4].pos_, doc[4].tag_, spacy.explain(doc[4].tag_))"
   ]
  },
  {
   "cell_type": "code",
   "execution_count": 5,
   "id": "692dfdb5-f026-4ab7-991c-3039c98db61d",
   "metadata": {},
   "outputs": [
    {
     "name": "stdout",
     "output_type": "stream",
     "text": [
      "The        DET      DT     determiner\n",
      "quick      ADJ      JJ     adjective (English), other noun-modifier (Chinese)\n",
      "           SPACE    _SP    whitespace\n",
      "brown      ADJ      JJ     adjective (English), other noun-modifier (Chinese)\n",
      "fox        NOUN     NN     noun, singular or mass\n",
      "jumped     VERB     VBD    verb, past tense\n",
      "over       ADP      IN     conjunction, subordinating or preposition\n",
      "the        DET      DT     determiner\n",
      "lazy       ADJ      JJ     adjective (English), other noun-modifier (Chinese)\n",
      "dog        NOUN     NN     noun, singular or mass\n",
      "'s         PART     POS    possessive ending\n",
      "back       NOUN     NN     noun, singular or mass\n",
      ".          PUNCT    .      punctuation mark, sentence closer\n"
     ]
    }
   ],
   "source": [
    "for token in doc:\n",
    "    print(f'{token.text:{10}} {token.pos_:{8}} {token.tag_:{6}} {spacy.explain(token.tag_)}')"
   ]
  },
  {
   "cell_type": "code",
   "execution_count": 6,
   "id": "1e27f310-e3b9-4386-a002-5cf9487dc6dd",
   "metadata": {},
   "outputs": [
    {
     "name": "stdout",
     "output_type": "stream",
     "text": [
      "read       VERB     9188597074677201817 verb, non-3rd person singular present\n"
     ]
    }
   ],
   "source": [
    "doc = nlp(u'I read books on NLP.')\n",
    "r = doc[1]\n",
    "\n",
    "print(f'{r.text:{10}} {r.pos_:{8}} {r.tag:{6}} {spacy.explain(r.tag_)}')"
   ]
  },
  {
   "cell_type": "code",
   "execution_count": 7,
   "id": "417334dd-d94c-4ab0-aed5-c26854e6ea39",
   "metadata": {},
   "outputs": [
    {
     "name": "stdout",
     "output_type": "stream",
     "text": [
      "read       VERB     9188597074677201817 verb, non-3rd person singular present\n"
     ]
    }
   ],
   "source": [
    "doc = nlp(u'I read books on NLP.')\n",
    "r = doc[1]\n",
    "\n",
    "print(f'{r.text:{10}} {r.pos_:{8}} {r.tag:{6}} {spacy.explain(r.tag_)}')"
   ]
  },
  {
   "cell_type": "code",
   "execution_count": null,
   "id": "5621c960-c570-439e-b37b-ad4ff0bc6076",
   "metadata": {},
   "outputs": [],
   "source": [
    "# Counting POS Tags\n",
    "The Doc.count_by() method accepts a specific token attribute as its argument and returns a frequency count\n",
    "of the given atttribute as a dictionary object. Keys in the dictionary are the integer values of the given\n",
    "attribute ID, and values are the frequency. Counts of zero are not included."
   ]
  },
  {
   "cell_type": "code",
   "execution_count": 8,
   "id": "48d76e5a-b211-413d-a5ad-27acb600c87d",
   "metadata": {},
   "outputs": [
    {
     "data": {
      "text/plain": [
       "{90: 2, 84: 3, 103: 1, 92: 3, 100: 1, 85: 1, 94: 1, 97: 1}"
      ]
     },
     "execution_count": 8,
     "metadata": {},
     "output_type": "execute_result"
    }
   ],
   "source": [
    "doc = nlp(u\"The quick  brown fox jumped over the lazy dog's back.\")\n",
    "\n",
    "#count the frequencies of different coarse-grained POS tags\n",
    "POS_counts = doc.count_by(spacy.attrs.POS)\n",
    "POS_counts"
   ]
  },
  {
   "cell_type": "code",
   "execution_count": 9,
   "id": "5089b1c6-9ab1-4d2c-9edc-45bda37716b1",
   "metadata": {},
   "outputs": [
    {
     "data": {
      "text/plain": [
       "'DET'"
      ]
     },
     "execution_count": 9,
     "metadata": {},
     "output_type": "execute_result"
    }
   ],
   "source": [
    "doc.vocab[90].text"
   ]
  },
  {
   "cell_type": "markdown",
   "id": "e05370ae-8874-4061-9c41-d3a74a73127c",
   "metadata": {},
   "source": [
    "# Create a frequency list of POS tags from the entire document\n",
    "\n",
    "since POS_counts return a dictniory. we can obtain a list of keys with POS_counts.items().\n",
    "By sorting the list we have access to the tag and its count, in order."
   ]
  },
  {
   "cell_type": "code",
   "execution_count": 10,
   "id": "54ae792b-9f96-4c4f-b3e7-05f56c8f6580",
   "metadata": {},
   "outputs": [
    {
     "name": "stdout",
     "output_type": "stream",
     "text": [
      "84. ADJ  : 3\n",
      "85. ADP  : 1\n",
      "90. DET  : 2\n",
      "92. NOUN : 3\n",
      "94. PART : 1\n",
      "97. PUNCT: 1\n",
      "100. VERB : 1\n",
      "103. SPACE: 1\n"
     ]
    }
   ],
   "source": [
    "for k,v in sorted(POS_counts.items()):     # here we can take any alphabet  in the place of \"k\",\"v\"\n",
    "    print(f'{k}. {doc.vocab[k].text:{5}}: {v}')"
   ]
  },
  {
   "cell_type": "code",
   "execution_count": 11,
   "id": "f466c8ef-67cd-4693-8360-e6d2ae42aa59",
   "metadata": {},
   "outputs": [
    {
     "name": "stdout",
     "output_type": "stream",
     "text": [
      "74. POS  : 1\n",
      "1292078113972184607. IN   : 1\n",
      "6893682062797376370. _SP  : 1\n",
      "10554686591937588953. JJ   : 3\n",
      "12646065887601541794. .    : 1\n",
      "15267657372422890137. DT   : 2\n",
      "15308085513773655218. NN   : 3\n",
      "17109001835818727656. VBD  : 1\n"
     ]
    }
   ],
   "source": [
    "# Count the differebt fine_grained tags:\n",
    "TAG_counts = doc.count_by(spacy.attrs.TAG)\n",
    "\n",
    "for k,v in sorted(TAG_counts.items()):     # here we can take any alphabet  in the place of \"k\",\"v\"\n",
    "    print(f'{k}. {doc.vocab[k].text:{5}}: {v}')"
   ]
  },
  {
   "cell_type": "code",
   "execution_count": null,
   "id": "b63086d9-596d-47b4-95fb-3928a5c11c8e",
   "metadata": {},
   "outputs": [],
   "source": []
  }
 ],
 "metadata": {
  "kernelspec": {
   "display_name": "Python 3 (ipykernel)",
   "language": "python",
   "name": "python3"
  },
  "language_info": {
   "codemirror_mode": {
    "name": "ipython",
    "version": 3
   },
   "file_extension": ".py",
   "mimetype": "text/x-python",
   "name": "python",
   "nbconvert_exporter": "python",
   "pygments_lexer": "ipython3",
   "version": "3.12.3"
  }
 },
 "nbformat": 4,
 "nbformat_minor": 5
}
