{
 "cells": [
  {
   "cell_type": "code",
   "execution_count": 1,
   "id": "9b57ed61-0b0d-41cb-ae09-e154e5c07918",
   "metadata": {},
   "outputs": [],
   "source": [
    "text = \"The agent's phone number is 400-555-1234. call soon!\""
   ]
  },
  {
   "cell_type": "code",
   "execution_count": 2,
   "id": "d102ccd0-c6b3-4071-87a5-be117d7e74e0",
   "metadata": {},
   "outputs": [
    {
     "data": {
      "text/plain": [
       "True"
      ]
     },
     "execution_count": 2,
     "metadata": {},
     "output_type": "execute_result"
    }
   ],
   "source": [
    "\"phone\" in text # we search phone in text"
   ]
  },
  {
   "cell_type": "code",
   "execution_count": 3,
   "id": "a4328fdf-79af-47a7-bdff-a94d23fe6912",
   "metadata": {},
   "outputs": [],
   "source": [
    "import re    # Regular Expression and re is library for regular exprression"
   ]
  },
  {
   "cell_type": "code",
   "execution_count": 4,
   "id": "9a6ed1ad-6bfc-4581-85ff-7df448ddc5ba",
   "metadata": {},
   "outputs": [],
   "source": [
    "pattern = \"phone\"   #we search phone in pattern and pattern is variable ."
   ]
  },
  {
   "cell_type": "code",
   "execution_count": 5,
   "id": "f45e244d-f9cd-4430-8020-11fc71ab2a2a",
   "metadata": {},
   "outputs": [
    {
     "data": {
      "text/plain": [
       "<re.Match object; span=(12, 17), match='phone'>"
      ]
     },
     "execution_count": 5,
     "metadata": {},
     "output_type": "execute_result"
    }
   ],
   "source": [
    "re.search(pattern,text)     # we seach pattern in text with Regular Expression."
   ]
  },
  {
   "cell_type": "code",
   "execution_count": 6,
   "id": "e43714ec-4951-4a5f-9e81-8fb0abb00803",
   "metadata": {},
   "outputs": [],
   "source": [
    "pattern = \"NOT IN TEXT\"  # we store \"not in text\" in Pattern."
   ]
  },
  {
   "cell_type": "code",
   "execution_count": 7,
   "id": "ce5653dc-fcaf-4d34-b90b-16daebf1ef32",
   "metadata": {},
   "outputs": [],
   "source": [
    "re.search(pattern,text)   # we seach pattern in text with Regular Expression."
   ]
  },
  {
   "cell_type": "code",
   "execution_count": 8,
   "id": "5f247257-af58-45aa-9657-21406d65a888",
   "metadata": {},
   "outputs": [],
   "source": [
    "pattern = \"phone\""
   ]
  },
  {
   "cell_type": "code",
   "execution_count": 9,
   "id": "54f54cff-a228-473f-b643-bed00a644e93",
   "metadata": {},
   "outputs": [],
   "source": [
    "match = re.search(pattern,text)"
   ]
  },
  {
   "cell_type": "code",
   "execution_count": 13,
   "id": "318913cb-a570-4071-96c6-ea4d47da0328",
   "metadata": {},
   "outputs": [],
   "source": [
    "# MATCH OBJECT"
   ]
  },
  {
   "cell_type": "code",
   "execution_count": 10,
   "id": "c3d9ee51-97b0-4627-8f6f-2501a895f94a",
   "metadata": {},
   "outputs": [
    {
     "data": {
      "text/plain": [
       "<re.Match object; span=(12, 17), match='phone'>"
      ]
     },
     "execution_count": 10,
     "metadata": {},
     "output_type": "execute_result"
    }
   ],
   "source": [
    "match"
   ]
  },
  {
   "cell_type": "code",
   "execution_count": 11,
   "id": "7797330c-0830-4417-9de1-9c6b950eaea0",
   "metadata": {},
   "outputs": [
    {
     "data": {
      "text/plain": [
       "(12, 17)"
      ]
     },
     "execution_count": 11,
     "metadata": {},
     "output_type": "execute_result"
    }
   ],
   "source": [
    "match.span()"
   ]
  },
  {
   "cell_type": "code",
   "execution_count": 12,
   "id": "d80e98ce-a140-4392-b13f-ecb778604990",
   "metadata": {},
   "outputs": [],
   "source": [
    "text = \"my phone is a new phone\""
   ]
  },
  {
   "cell_type": "code",
   "execution_count": 13,
   "id": "2d454cb3-657c-4aa9-921a-315e612a262b",
   "metadata": {},
   "outputs": [
    {
     "data": {
      "text/plain": [
       "<re.Match object; span=(3, 8), match='phone'>"
      ]
     },
     "execution_count": 13,
     "metadata": {},
     "output_type": "execute_result"
    }
   ],
   "source": [
    "match = re.search(\"phone\",text)\n",
    "match"
   ]
  },
  {
   "cell_type": "code",
   "execution_count": 14,
   "id": "dba9bc23-a4f7-44de-aa29-a41eca72d750",
   "metadata": {},
   "outputs": [
    {
     "data": {
      "text/plain": [
       "['phone', 'phone']"
      ]
     },
     "execution_count": 14,
     "metadata": {},
     "output_type": "execute_result"
    }
   ],
   "source": [
    "matches = re.findall(\"phone\",text)\n",
    "matches"
   ]
  },
  {
   "cell_type": "code",
   "execution_count": 15,
   "id": "083a003a-76c4-428e-b1f1-58f7387a664a",
   "metadata": {},
   "outputs": [
    {
     "data": {
      "text/plain": [
       "2"
      ]
     },
     "execution_count": 15,
     "metadata": {},
     "output_type": "execute_result"
    }
   ],
   "source": [
    "len(matches)"
   ]
  },
  {
   "cell_type": "code",
   "execution_count": 16,
   "id": "73d20cc2-4cae-4451-87b9-9eb819b268b1",
   "metadata": {},
   "outputs": [
    {
     "name": "stdout",
     "output_type": "stream",
     "text": [
      "(3, 8)\n",
      "(18, 23)\n"
     ]
    }
   ],
   "source": [
    "# To get actual matches\n",
    "for match in re.finditer(\"phone\",text):\n",
    "    print(match.span())"
   ]
  },
  {
   "cell_type": "markdown",
   "id": "e5f5d968-59cb-4c08-a5a0-df2983c2e02b",
   "metadata": {},
   "source": [
    "#pattern"
   ]
  },
  {
   "cell_type": "code",
   "execution_count": 17,
   "id": "ae3bd96b-be92-4d7d-896d-a2933adb2fff",
   "metadata": {},
   "outputs": [],
   "source": [
    "text = \"My telephone number is 408-555-1234\""
   ]
  },
  {
   "cell_type": "code",
   "execution_count": 18,
   "id": "b38f7d61-fd3a-4ea9-82c7-02bbd0eea067",
   "metadata": {},
   "outputs": [],
   "source": [
    "phone = re.search(r'\\d\\d\\d-\\d\\d\\d-\\d\\d\\d\\d',text) # here \\d is no of digits."
   ]
  },
  {
   "cell_type": "code",
   "execution_count": 19,
   "id": "493d1755-c4d5-4e1a-99fb-9fc92f4118f9",
   "metadata": {},
   "outputs": [
    {
     "data": {
      "text/plain": [
       "'408-555-1234'"
      ]
     },
     "execution_count": 19,
     "metadata": {},
     "output_type": "execute_result"
    }
   ],
   "source": [
    "phone.group() #here we use grops bcz we are searching pattern"
   ]
  },
  {
   "cell_type": "markdown",
   "id": "b72107b5-cb82-40e7-b33f-c4839177968d",
   "metadata": {},
   "source": [
    "#GROUPS"
   ]
  },
  {
   "cell_type": "code",
   "execution_count": 20,
   "id": "85ec42c4-84e3-4000-b525-16005ab7fd16",
   "metadata": {},
   "outputs": [],
   "source": [
    "phone_pattern = re.compile(r'(\\d{3})-(\\d{3})-(\\d{4})')"
   ]
  },
  {
   "cell_type": "code",
   "execution_count": 21,
   "id": "db892917-4022-4a17-86f0-c42a71724a95",
   "metadata": {},
   "outputs": [],
   "source": [
    "results = re.search(phone_pattern,text)"
   ]
  },
  {
   "cell_type": "code",
   "execution_count": 22,
   "id": "ef9d592a-6e45-41e9-b1ab-a5ada1d7d0d1",
   "metadata": {},
   "outputs": [
    {
     "data": {
      "text/plain": [
       "'408-555-1234'"
      ]
     },
     "execution_count": 22,
     "metadata": {},
     "output_type": "execute_result"
    }
   ],
   "source": [
    "#The entire result\n",
    "results.group()"
   ]
  },
  {
   "cell_type": "code",
   "execution_count": 23,
   "id": "16665505-7bcb-4b61-a058-d795a3349c2e",
   "metadata": {},
   "outputs": [
    {
     "data": {
      "text/plain": [
       "'408'"
      ]
     },
     "execution_count": 23,
     "metadata": {},
     "output_type": "execute_result"
    }
   ],
   "source": [
    "results.group(1)"
   ]
  },
  {
   "cell_type": "code",
   "execution_count": 24,
   "id": "1c0877a5-c705-4385-8705-3a2f0e238543",
   "metadata": {},
   "outputs": [
    {
     "data": {
      "text/plain": [
       "'555'"
      ]
     },
     "execution_count": 24,
     "metadata": {},
     "output_type": "execute_result"
    }
   ],
   "source": [
    "results.group(2)"
   ]
  },
  {
   "cell_type": "code",
   "execution_count": 25,
   "id": "abcc1303-fe45-427a-80d0-c7fbc7eb15a5",
   "metadata": {},
   "outputs": [
    {
     "data": {
      "text/plain": [
       "'1234'"
      ]
     },
     "execution_count": 25,
     "metadata": {},
     "output_type": "execute_result"
    }
   ],
   "source": [
    "results.group(3)"
   ]
  },
  {
   "cell_type": "code",
   "execution_count": 27,
   "id": "7b96585f-9aff-4173-aeb4-b364387cf359",
   "metadata": {},
   "outputs": [
    {
     "name": "stdout",
     "output_type": "stream",
     "text": [
      "Name: Alice\n",
      "Name\n",
      "Alice\n"
     ]
    }
   ],
   "source": [
    "import re\n",
    "\n",
    "pattern = re.compile(r\"(Name): (\\w+)\")\n",
    "results = pattern.search(\"Name: Alice\")\n",
    "\n",
    "print(results.group(0))  # Entire match: 'Name: Alice'\n",
    "print(results.group(1))  # 'Name'\n",
    "print(results.group(2))  # 'Alice'"
   ]
  },
  {
   "cell_type": "markdown",
   "id": "1ae2f4c6-13b4-4d5c-b52f-c862c371ad8b",
   "metadata": {},
   "source": [
    "#Additional REGEX SYNTAX"
   ]
  },
  {
   "cell_type": "code",
   "execution_count": null,
   "id": "e1ad14df-d068-4a7c-9f4a-a40d6cddc94b",
   "metadata": {},
   "outputs": [],
   "source": [
    "##OR OPERATOR"
   ]
  },
  {
   "cell_type": "code",
   "execution_count": 28,
   "id": "c5641f45-5cde-476c-a93f-bb082ed005d2",
   "metadata": {},
   "outputs": [
    {
     "data": {
      "text/plain": [
       "<re.Match object; span=(5, 8), match='man'>"
      ]
     },
     "execution_count": 28,
     "metadata": {},
     "output_type": "execute_result"
    }
   ],
   "source": [
    "re.search(r\"man|woman\",\"This man was here.\")"
   ]
  },
  {
   "cell_type": "code",
   "execution_count": 29,
   "id": "a94f2e17-56f6-4953-90f8-e5b830553464",
   "metadata": {},
   "outputs": [
    {
     "data": {
      "text/plain": [
       "<re.Match object; span=(5, 10), match='woman'>"
      ]
     },
     "execution_count": 29,
     "metadata": {},
     "output_type": "execute_result"
    }
   ],
   "source": [
    "re.search(r\"man|woman\",\"This woman was here.\")"
   ]
  },
  {
   "cell_type": "markdown",
   "id": "6b492b3f-f1e2-4fdf-8a3d-bd7df4b3362b",
   "metadata": {},
   "source": [
    "#The Wildcard Character"
   ]
  },
  {
   "cell_type": "code",
   "execution_count": 39,
   "id": "50bb48e9-d2bc-4c03-8d01-1c2e2c7ef5d4",
   "metadata": {},
   "outputs": [
    {
     "name": "stdout",
     "output_type": "stream",
     "text": [
      "['cat', 'hat', 'sat']\n"
     ]
    }
   ],
   "source": [
    "print(re.findall(r\".at\", \"The cat in the hat sat here.\"))"
   ]
  },
  {
   "cell_type": "code",
   "execution_count": 32,
   "id": "0501651d-70b8-4387-b1a4-9d2cba4cb677",
   "metadata": {},
   "outputs": [
    {
     "data": {
      "text/plain": [
       "['e bat', 'splat']"
      ]
     },
     "execution_count": 32,
     "metadata": {},
     "output_type": "execute_result"
    }
   ],
   "source": [
    "re.findall(r\"...at\",\"The bat went splat\") #\"...at\" means we are searching at starting with 3 other character "
   ]
  },
  {
   "cell_type": "code",
   "execution_count": 33,
   "id": "243c3799-21b3-4b4d-aa6e-73a5d5f29473",
   "metadata": {},
   "outputs": [
    {
     "data": {
      "text/plain": [
       "['bat', 'splat']"
      ]
     },
     "execution_count": 33,
     "metadata": {},
     "output_type": "execute_result"
    }
   ],
   "source": [
    "# One or more no_white space that ends with \"at\"\n",
    "re.findall(r\"\\S+at\",\"The bat went splat\") #\\S means not white space & + means one or more times...\n",
    "                                          # we are serching \"at\" and at se phle non white space hona chahiye."
   ]
  },
  {
   "cell_type": "markdown",
   "id": "badbe0a7-24f3-4584-a3b7-0f379bb0263a",
   "metadata": {},
   "source": [
    "# Starts With and Ends With"
   ]
  },
  {
   "cell_type": "code",
   "execution_count": 34,
   "id": "d92780ec-a3e5-4ca2-91f2-e2cde28a24b9",
   "metadata": {},
   "outputs": [
    {
     "data": {
      "text/plain": [
       "['2']"
      ]
     },
     "execution_count": 34,
     "metadata": {},
     "output_type": "execute_result"
    }
   ],
   "source": [
    "# Ends with a number\n",
    "re.findall(r\"\\d$\",\"This ends eith a number 2\") #\"\\d\" = digit , $ = ends with\n",
    "                                               # \\d$ = any digit in last"
   ]
  },
  {
   "cell_type": "code",
   "execution_count": 35,
   "id": "e3e66775-a4b7-45b1-a7fd-eaca6c1d7f77",
   "metadata": {},
   "outputs": [
    {
     "data": {
      "text/plain": [
       "['1']"
      ]
     },
     "execution_count": 35,
     "metadata": {},
     "output_type": "execute_result"
    }
   ],
   "source": [
    "# starts with a number\n",
    "re.findall(r\"^\\d\",\"1 is the lonelist number\") #\"\\d\" = digit, ^ = starts with\n",
    "                                              # ^\\d = any digit in first"
   ]
  },
  {
   "cell_type": "markdown",
   "id": "1919f79a-0674-46a8-962d-75d769b7d1d3",
   "metadata": {},
   "source": [
    "#EXCLUSION"
   ]
  },
  {
   "cell_type": "code",
   "execution_count": 36,
   "id": "34fb4f1b-ce6a-45e5-bd28-250ef17c6b64",
   "metadata": {},
   "outputs": [],
   "source": [
    "phrase = \"there are 3 numbers 34 inside 5 this sentence.\""
   ]
  },
  {
   "cell_type": "code",
   "execution_count": 37,
   "id": "1cb5097b-7a14-4108-9b0e-933231e159eb",
   "metadata": {},
   "outputs": [
    {
     "data": {
      "text/plain": [
       "['t',\n",
       " 'h',\n",
       " 'e',\n",
       " 'r',\n",
       " 'e',\n",
       " ' ',\n",
       " 'a',\n",
       " 'r',\n",
       " 'e',\n",
       " ' ',\n",
       " ' ',\n",
       " 'n',\n",
       " 'u',\n",
       " 'm',\n",
       " 'b',\n",
       " 'e',\n",
       " 'r',\n",
       " 's',\n",
       " ' ',\n",
       " ' ',\n",
       " 'i',\n",
       " 'n',\n",
       " 's',\n",
       " 'i',\n",
       " 'd',\n",
       " 'e',\n",
       " ' ',\n",
       " ' ',\n",
       " 't',\n",
       " 'h',\n",
       " 'i',\n",
       " 's',\n",
       " ' ',\n",
       " 's',\n",
       " 'e',\n",
       " 'n',\n",
       " 't',\n",
       " 'e',\n",
       " 'n',\n",
       " 'c',\n",
       " 'e',\n",
       " '.']"
      ]
     },
     "execution_count": 37,
     "metadata": {},
     "output_type": "execute_result"
    }
   ],
   "source": [
    "re.findall(r'[^\\d]',phrase) #[] means iske andr jo hoga wo print nhi hoga\n",
    "                            #[^\\d] means everything print except digits(num)."
   ]
  },
  {
   "cell_type": "code",
   "execution_count": null,
   "id": "884cc070-0e5c-4a14-a4e0-335073d4f132",
   "metadata": {},
   "outputs": [],
   "source": []
  }
 ],
 "metadata": {
  "kernelspec": {
   "display_name": "Python 3 (ipykernel)",
   "language": "python",
   "name": "python3"
  },
  "language_info": {
   "codemirror_mode": {
    "name": "ipython",
    "version": 3
   },
   "file_extension": ".py",
   "mimetype": "text/x-python",
   "name": "python",
   "nbconvert_exporter": "python",
   "pygments_lexer": "ipython3",
   "version": "3.12.3"
  }
 },
 "nbformat": 4,
 "nbformat_minor": 5
}
