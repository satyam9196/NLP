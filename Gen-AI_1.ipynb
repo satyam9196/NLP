{
 "cells": [
  {
   "cell_type": "raw",
   "id": "73580a0a-d0f1-4802-b5c2-8ed056745df7",
   "metadata": {},
   "source": [
    "Question:1 Print an f-string that displays NLP stands for Natural Language Processing using the variables provided."
   ]
  },
  {
   "cell_type": "code",
   "execution_count": 71,
   "id": "0f29ff6d-9de3-4c80-ad45-fc5a6fcd4483",
   "metadata": {},
   "outputs": [
    {
     "name": "stdout",
     "output_type": "stream",
     "text": [
      "NLP stands for Natural Language Processing\n"
     ]
    }
   ],
   "source": [
    "NLP = \"Natural Language Processing\"\n",
    "print(f\"NLP stands for {NLP}\")"
   ]
  },
  {
   "cell_type": "raw",
   "id": "7ab0aeb9-d4a7-4532-8d4c-055f5b005d4f",
   "metadata": {},
   "source": [
    "Question:2 Create a file in the current working directory called contacts.txt by running the cell below."
   ]
  },
  {
   "cell_type": "code",
   "execution_count": 73,
   "id": "41cdbdcc-0a61-445d-92dc-c0c0a9d21898",
   "metadata": {},
   "outputs": [
    {
     "name": "stdout",
     "output_type": "stream",
     "text": [
      "Overwriting contacts.txt\n"
     ]
    }
   ],
   "source": [
    "%%writefile contacts.txt\n",
    "create a work file"
   ]
  },
  {
   "cell_type": "raw",
   "id": "58cd80fb-2bc0-4445-814b-a0d253e4c917",
   "metadata": {},
   "source": [
    "Question:3 Open the file and use .read() to save the contents of the file to a string called fields. Make sure the file is closed at the end."
   ]
  },
  {
   "cell_type": "code",
   "execution_count": 75,
   "id": "293e561d-40d2-4c56-beb4-0ae4fde2aeca",
   "metadata": {},
   "outputs": [
    {
     "name": "stdout",
     "output_type": "stream",
     "text": [
      "create a work file\n",
      "\n"
     ]
    }
   ],
   "source": [
    "with open(\"contacts.txt\", \"r\") as f:\n",
    "    fields = f.read()\n",
    "print(fields)"
   ]
  },
  {
   "cell_type": "code",
   "execution_count": 93,
   "id": "5155c8b0-b63b-43ef-a9ac-fe10cba6a0de",
   "metadata": {},
   "outputs": [
    {
     "name": "stdout",
     "output_type": "stream",
     "text": [
      "Requirement already satisfied: PyPDF2 in c:\\users\\shiva\\anaconda3\\lib\\site-packages (3.0.1)Note: you may need to restart the kernel to use updated packages.\n",
      "\n"
     ]
    }
   ],
   "source": [
    "pip install PyPDF2"
   ]
  },
  {
   "cell_type": "raw",
   "id": "4c50d257-76ae-47df-9fdd-d12356a58db1",
   "metadata": {},
   "source": [
    "Question:4 Use PyPDF2 to open the file Business_Proposal.pdf. Extract the text of page 2."
   ]
  },
  {
   "cell_type": "code",
   "execution_count": 87,
   "id": "64cbb11e-6ae8-477a-9c7c-57cc0dcadd90",
   "metadata": {},
   "outputs": [
    {
     "data": {
      "text/plain": [
       "2"
      ]
     },
     "execution_count": 87,
     "metadata": {},
     "output_type": "execute_result"
    }
   ],
   "source": [
    "import PyPDF2\n",
    "\n",
    "pdf = open(\"Business_Proposal.pdf\",\"rb\")\n",
    "pdf_read = PyPDF2.PdfReader(pdf)\n",
    "len(pdf_read.pages)"
   ]
  },
  {
   "cell_type": "code",
   "execution_count": 53,
   "id": "a2d909cb-cac8-485c-8b00-f2ac27811fd7",
   "metadata": {},
   "outputs": [
    {
     "data": {
      "text/plain": [
       "'AUTHORS:  \\nAmy Baker, Finance Chair, x345, abaker@ourcompany.com  \\nChris Donaldson, Accounting Dir., x621, cdonaldson@ourcompany.com  \\nErin Freeman, Sr. VP, x879, efreeman@ourcompany.com  '"
      ]
     },
     "execution_count": 53,
     "metadata": {},
     "output_type": "execute_result"
    }
   ],
   "source": [
    "page_two = pdf_read.pages[1]\n",
    "page_two_text = page_two.extract_text()\n",
    "page_two_text"
   ]
  },
  {
   "cell_type": "code",
   "execution_count": 54,
   "id": "dd7a397c-9cea-4760-850d-a38826c5d1b3",
   "metadata": {},
   "outputs": [],
   "source": [
    "pdf.close()"
   ]
  },
  {
   "cell_type": "raw",
   "id": "a75b7af9-5bdc-4635-b133-7bb372de2e60",
   "metadata": {},
   "source": [
    "Question:5 Open the file contacts.txt in append mode. Add the text of page 2 from above to contacts.txt."
   ]
  },
  {
   "cell_type": "code",
   "execution_count": 91,
   "id": "008dc9b8-b6e5-4b2a-b22a-cab3142e930a",
   "metadata": {},
   "outputs": [
    {
     "name": "stdout",
     "output_type": "stream",
     "text": [
      "AUTHORS:  \n",
      "Amy Baker, Finance Chair, x345, abaker@ourcompany.com  \n",
      "Chris Donaldson, Accounting Dir., x621, cdonaldson@ourcompany.com  \n",
      "Erin Freeman, Sr. VP, x879, efreeman@ourcompany.com  AUTHORS:  \n",
      "Amy Baker, Finance Chair, x345, abaker@ourcompany.com  \n",
      "Chris Donaldson, Accounting Dir., x621, cdonaldson@ourcompany.com  \n",
      "Erin Freeman, Sr. VP, x879, efreeman@ourcompany.com  AUTHORS:  \n",
      "Amy Baker, Finance Chair, x345, abaker@ourcompany.com  \n",
      "Chris Donaldson, Accounting Dir., x621, cdonaldson@ourcompany.com  \n",
      "Erin Freeman, Sr. VP, x879, efreeman@ourcompany.com  AUTHORS:  \n",
      "Amy Baker, Finance Chair, x345, abaker@ourcompany.com  \n",
      "Chris Donaldson, Accounting Dir., x621, cdonaldson@ourcompany.com  \n",
      "Erin Freeman, Sr. VP, x879, efreeman@ourcompany.com  AUTHORS:  \n",
      "Amy Baker, Finance Chair, x345, abaker@ourcompany.com  \n",
      "Chris Donaldson, Accounting Dir., x621, cdonaldson@ourcompany.com  \n",
      "Erin Freeman, Sr. VP, x879, efreeman@ourcompany.com  \n"
     ]
    }
   ],
   "source": [
    "import PyPDF2\n",
    "\n",
    "with open(\"contact.txt\",\"a+\") as k:\n",
    "    k.write(page_two_text)\n",
    "    k.seek(0)\n",
    "    print(k.read())"
   ]
  },
  {
   "cell_type": "raw",
   "id": "875eb920-5128-4729-a3ef-8234580069ec",
   "metadata": {},
   "source": [
    "Question: Using the page_two_text variable created above, extract any email addresses that were contained in the file Business_Proposal.pdf."
   ]
  },
  {
   "cell_type": "code",
   "execution_count": 81,
   "id": "65fd9a5c-7b02-4f5e-b26e-1fe28ea03d5b",
   "metadata": {},
   "outputs": [
    {
     "data": {
      "text/plain": [
       "<re.Match object; span=(43, 64), match='abaker@ourcompany.com'>"
      ]
     },
     "execution_count": 81,
     "metadata": {},
     "output_type": "execute_result"
    }
   ],
   "source": [
    "import re\n",
    "\n",
    "Email_list = r'\\w+@\\w+.\\w{3}'\n",
    "re.search(Email_list, page_two_text)"
   ]
  }
 ],
 "metadata": {
  "kernelspec": {
   "display_name": "Python 3 (ipykernel)",
   "language": "python",
   "name": "python3"
  },
  "language_info": {
   "codemirror_mode": {
    "name": "ipython",
    "version": 3
   },
   "file_extension": ".py",
   "mimetype": "text/x-python",
   "name": "python",
   "nbconvert_exporter": "python",
   "pygments_lexer": "ipython3",
   "version": "3.12.4"
  }
 },
 "nbformat": 4,
 "nbformat_minor": 5
}
