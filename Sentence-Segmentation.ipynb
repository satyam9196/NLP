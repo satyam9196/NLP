{
 "cells": [
  {
   "cell_type": "markdown",
   "id": "16537b04-3cbe-442d-ad1d-93d5f09a0d5d",
   "metadata": {},
   "source": [
    "Sentence Segmentation \n",
    "\n",
    "in spacy basis "
   ]
  },
  {
   "cell_type": "code",
   "execution_count": 29,
   "id": "13c2e17f-7190-4cb9-b622-6c2b1c5d0a80",
   "metadata": {},
   "outputs": [],
   "source": [
    "#perform standard imports \n",
    "import spacy\n",
    "nlp = spacy.load('en_core_web_sm')"
   ]
  },
  {
   "cell_type": "code",
   "execution_count": 2,
   "id": "49441e7b-d87d-40b6-b364-a52f9998f2f9",
   "metadata": {},
   "outputs": [
    {
     "name": "stdout",
     "output_type": "stream",
     "text": [
      "This is the firstn= sentence.\n",
      "this is another sentence.\n",
      "this is the last sentence .\n"
     ]
    }
   ],
   "source": [
    "#from spacy basics:\n",
    "doc = nlp(u'This is the firstn= sentence. this is another sentence. this is the last sentence .')\n",
    "for sent in doc.sents:\n",
    "    print(sent)"
   ]
  },
  {
   "cell_type": "code",
   "execution_count": 4,
   "id": "9718157f-6c15-4850-a9bf-ae9548449f7e",
   "metadata": {},
   "outputs": [
    {
     "name": "stdout",
     "output_type": "stream",
     "text": [
      "is\n"
     ]
    }
   ],
   "source": [
    "print(doc[1])"
   ]
  },
  {
   "cell_type": "code",
   "execution_count": 8,
   "id": "443a1ae0-1408-469e-909b-c462b099bc59",
   "metadata": {},
   "outputs": [
    {
     "name": "stdout",
     "output_type": "stream",
     "text": [
      "this is another sentence.\n"
     ]
    }
   ],
   "source": [
    "sentences = list(doc.sents)\n",
    "print(sentences[1])"
   ]
  },
  {
   "cell_type": "code",
   "execution_count": 10,
   "id": "e1cab23c-18bf-4c87-a045-e0832ebab6f3",
   "metadata": {},
   "outputs": [
    {
     "data": {
      "text/plain": [
       "[This is the firstn= sentence.,\n",
       " this is another sentence.,\n",
       " this is the last sentence .]"
      ]
     },
     "execution_count": 10,
     "metadata": {},
     "output_type": "execute_result"
    }
   ],
   "source": [
    "doc_sent = [sent for sent in doc.sents]\n",
    "doc_sent"
   ]
  },
  {
   "cell_type": "markdown",
   "id": "94d38cf8-d721-46a9-957d-1b7b1e3f433e",
   "metadata": {},
   "source": [
    "sents and spans \n",
    "\n",
    "At first glance it looks each sent contains text from the original Doc object. in fact they're just Spans With start \n",
    "and end token pointers."
   ]
  },
  {
   "cell_type": "code",
   "execution_count": 11,
   "id": "a1b91dd5-6c1d-4330-b9c3-41af4a732f08",
   "metadata": {},
   "outputs": [
    {
     "data": {
      "text/plain": [
       "spacy.tokens.span.Span"
      ]
     },
     "execution_count": 11,
     "metadata": {},
     "output_type": "execute_result"
    }
   ],
   "source": [
    "type(doc_sent[1])"
   ]
  },
  {
   "cell_type": "code",
   "execution_count": 12,
   "id": "826a58b0-68b6-4a9e-aca3-122bca477ca5",
   "metadata": {},
   "outputs": [
    {
     "name": "stdout",
     "output_type": "stream",
     "text": [
      "6 11\n"
     ]
    }
   ],
   "source": [
    "print(doc_sent[1].start, doc_sent[1].end)"
   ]
  },
  {
   "cell_type": "code",
   "execution_count": 27,
   "id": "7339bca2-4f0e-4ba2-be89-a89b66b6ba1c",
   "metadata": {},
   "outputs": [],
   "source": [
    "# Adding Rules"
   ]
  },
  {
   "cell_type": "code",
   "execution_count": 13,
   "id": "4a248d1a-1d78-4cee-8094-fd2d3406808b",
   "metadata": {},
   "outputs": [
    {
     "name": "stdout",
     "output_type": "stream",
     "text": [
      "True  This\n",
      "False  is\n",
      "False  a\n",
      "False  sentence\n",
      "False  .\n",
      "True  This\n",
      "False  is\n",
      "False  a\n",
      "False  sentence\n",
      "False  .\n",
      "True  This\n",
      "False  is\n",
      "False  a\n",
      "False  sentence\n",
      "False  .\n"
     ]
    }
   ],
   "source": [
    "# Praising the segmentation start tokens happens during the nlp pipeline\n",
    "doc2 = nlp(u'This is a sentence. This is a sentence. This is a sentence.')\n",
    "\n",
    "for token in doc2:\n",
    "    print(token.is_sent_start, ' '+token.text)"
   ]
  },
  {
   "cell_type": "code",
   "execution_count": 33,
   "id": "56ba9746-167e-46fd-863e-97c906486410",
   "metadata": {},
   "outputs": [
    {
     "name": "stdout",
     "output_type": "stream",
     "text": [
      " \"Management is doing things right; leadership is doing the right things.\"\n",
      "-Peter Drucker\n"
     ]
    }
   ],
   "source": [
    "# SPACY's Default Behaviour\n",
    "doc3 = nlp(u' \"Management is doing things right; leadership is doing the right things.\" -Peter Drucker')\n",
    "\n",
    "for sent in doc3.sents:\n",
    "    print(sent)"
   ]
  },
  {
   "cell_type": "code",
   "execution_count": 28,
   "id": "387e8061-3208-4592-9779-13a4e2082ecf",
   "metadata": {},
   "outputs": [
    {
     "data": {
      "text/plain": [
       "<function __main__.set_custom_boundaries(doc)>"
      ]
     },
     "execution_count": 28,
     "metadata": {},
     "output_type": "execute_result"
    }
   ],
   "source": [
    "import spacy\n",
    "from spacy.language import Language\n",
    "\n",
    "@Language.component(\"set_custom_boundaries\")\n",
    "def set_custom_boundaries(doc):\n",
    "    for token in doc[:-1]:\n",
    "        if token.text ==':':\n",
    "            doc[token.i + 1].is_sent_start = True\n",
    "    return doc\n",
    "\n",
    "nlp = spacy.load(\"en_core_web_sm\",disable=[\"parser\"])\n",
    "nlp.add_pipe(\"set_custom_boundaries\")"
   ]
  },
  {
   "cell_type": "code",
   "execution_count": 31,
   "id": "2ccc752e-aa78-4235-a7d6-dfcec58c22f5",
   "metadata": {},
   "outputs": [
    {
     "name": "stdout",
     "output_type": "stream",
     "text": [
      "Management is doing things right; leadership is doing the right things.\n"
     ]
    }
   ],
   "source": [
    "# Re-run the Doc object creation:\n",
    "doc4 = nlp(u\"Management is doing things right; leadership is doing the right things.\")\n",
    "\n",
    "for sent in doc4.sents:\n",
    "    print(sent)"
   ]
  },
  {
   "cell_type": "code",
   "execution_count": 34,
   "id": "17f35c73-0bee-4613-9c54-d42d6791d1e1",
   "metadata": {},
   "outputs": [
    {
     "name": "stdout",
     "output_type": "stream",
     "text": [
      " \"Management is doing things right; leadership is doing the right things.\"\n",
      "-Peter Drucker\n"
     ]
    }
   ],
   "source": [
    "# And yet the new rule doesn't apply to the older Doc object:\n",
    "for sent in doc3.sents:\n",
    "    print(sent)"
   ]
  },
  {
   "cell_type": "code",
   "execution_count": null,
   "id": "31eb4b61-37bf-4633-b633-33085c33809a",
   "metadata": {},
   "outputs": [],
   "source": []
  }
 ],
 "metadata": {
  "kernelspec": {
   "display_name": "Python 3 (ipykernel)",
   "language": "python",
   "name": "python3"
  },
  "language_info": {
   "codemirror_mode": {
    "name": "ipython",
    "version": 3
   },
   "file_extension": ".py",
   "mimetype": "text/x-python",
   "name": "python",
   "nbconvert_exporter": "python",
   "pygments_lexer": "ipython3",
   "version": "3.12.3"
  }
 },
 "nbformat": 4,
 "nbformat_minor": 5
}
