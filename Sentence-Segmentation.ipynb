{
 "cells": [
  {
   "cell_type": "markdown",
   "id": "16537b04-3cbe-442d-ad1d-93d5f09a0d5d",
   "metadata": {},
   "source": [
    "Sentence Segmentation \n",
    "\n",
    "in spacy basis "
   ]
  },
  {
   "cell_type": "code",
   "execution_count": 1,
   "id": "13c2e17f-7190-4cb9-b622-6c2b1c5d0a80",
   "metadata": {},
   "outputs": [],
   "source": [
    "#perform standard imports \n",
    "import spacy\n",
    "nlp = spacy.load('en_core_web_sm')"
   ]
  },
  {
   "cell_type": "code",
   "execution_count": 2,
   "id": "49441e7b-d87d-40b6-b364-a52f9998f2f9",
   "metadata": {},
   "outputs": [
    {
     "name": "stdout",
     "output_type": "stream",
     "text": [
      "This is the firstn= sentence.\n",
      "this is another sentence.\n",
      "this is the last sentence .\n"
     ]
    }
   ],
   "source": [
    "#from spacy basics:\n",
    "doc = nlp(u'This is the firstn= sentence. this is another sentence. this is the last sentence .')\n",
    "for sent in doc.sents:\n",
    "    print(sent)"
   ]
  },
  {
   "cell_type": "code",
   "execution_count": 4,
   "id": "9718157f-6c15-4850-a9bf-ae9548449f7e",
   "metadata": {},
   "outputs": [
    {
     "name": "stdout",
     "output_type": "stream",
     "text": [
      "is\n"
     ]
    }
   ],
   "source": [
    "print(doc[1])"
   ]
  },
  {
   "cell_type": "code",
   "execution_count": 8,
   "id": "443a1ae0-1408-469e-909b-c462b099bc59",
   "metadata": {},
   "outputs": [
    {
     "name": "stdout",
     "output_type": "stream",
     "text": [
      "this is another sentence.\n"
     ]
    }
   ],
   "source": [
    "sentences = list(doc.sents)\n",
    "print(sentences[1])"
   ]
  },
  {
   "cell_type": "code",
   "execution_count": 10,
   "id": "e1cab23c-18bf-4c87-a045-e0832ebab6f3",
   "metadata": {},
   "outputs": [
    {
     "data": {
      "text/plain": [
       "[This is the firstn= sentence.,\n",
       " this is another sentence.,\n",
       " this is the last sentence .]"
      ]
     },
     "execution_count": 10,
     "metadata": {},
     "output_type": "execute_result"
    }
   ],
   "source": [
    "doc_sent = [sent for sent in doc.sents]\n",
    "doc_sent"
   ]
  },
  {
   "cell_type": "markdown",
   "id": "94d38cf8-d721-46a9-957d-1b7b1e3f433e",
   "metadata": {},
   "source": [
    "sents and spans \n",
    "\n",
    "At first glance it looks each sent contains text from the original Doc object. in fact they're just Spans With start \n",
    "and end token pointers."
   ]
  },
  {
   "cell_type": "code",
   "execution_count": 11,
   "id": "a1b91dd5-6c1d-4330-b9c3-41af4a732f08",
   "metadata": {},
   "outputs": [
    {
     "data": {
      "text/plain": [
       "spacy.tokens.span.Span"
      ]
     },
     "execution_count": 11,
     "metadata": {},
     "output_type": "execute_result"
    }
   ],
   "source": [
    "type(doc_sent[1])"
   ]
  },
  {
   "cell_type": "code",
   "execution_count": 12,
   "id": "826a58b0-68b6-4a9e-aca3-122bca477ca5",
   "metadata": {},
   "outputs": [
    {
     "name": "stdout",
     "output_type": "stream",
     "text": [
      "6 11\n"
     ]
    }
   ],
   "source": [
    "print(doc_sent[1].start, doc_sent[1].end)"
   ]
  },
  {
   "cell_type": "code",
   "execution_count": 27,
   "id": "7339bca2-4f0e-4ba2-be89-a89b66b6ba1c",
   "metadata": {},
   "outputs": [],
   "source": [
    "# Adding Rules"
   ]
  },
  {
   "cell_type": "code",
   "execution_count": 13,
   "id": "4a248d1a-1d78-4cee-8094-fd2d3406808b",
   "metadata": {},
   "outputs": [
    {
     "name": "stdout",
     "output_type": "stream",
     "text": [
      "True  This\n",
      "False  is\n",
      "False  a\n",
      "False  sentence\n",
      "False  .\n",
      "True  This\n",
      "False  is\n",
      "False  a\n",
      "False  sentence\n",
      "False  .\n",
      "True  This\n",
      "False  is\n",
      "False  a\n",
      "False  sentence\n",
      "False  .\n"
     ]
    }
   ],
   "source": [
    "# Praising the segmentation start tokens happens during the nlp pipeline\n",
    "doc2 = nlp(u'This is a sentence. This is a sentence. This is a sentence.')\n",
    "\n",
    "for token in doc2:\n",
    "    print(token.is_sent_start, ' '+token.text)"
   ]
  },
  {
   "cell_type": "code",
   "execution_count": 14,
   "id": "56ba9746-167e-46fd-863e-97c906486410",
   "metadata": {},
   "outputs": [
    {
     "name": "stdout",
     "output_type": "stream",
     "text": [
      " \"Management is doing things right; leadership is doing the right things.\"\n",
      "-Peter Drucker\n"
     ]
    }
   ],
   "source": [
    "# SPACY's Default Behaviour\n",
    "doc3 = nlp(u' \"Management is doing things right; leadership is doing the right things.\" -Peter Drucker')\n",
    "\n",
    "for sent in doc3.sents:\n",
    "    print(sent)"
   ]
  },
  {
   "cell_type": "code",
   "execution_count": 30,
   "id": "8e8432df-86af-4c0f-bd1e-f02e08ef91ef",
   "metadata": {},
   "outputs": [
    {
     "ename": "IndentationError",
     "evalue": "unindent does not match any outer indentation level (<string>, line 6)",
     "output_type": "error",
     "traceback": [
      "\u001b[1;36m  File \u001b[1;32m<string>:6\u001b[1;36m\u001b[0m\n\u001b[1;33m    return doc\u001b[0m\n\u001b[1;37m              ^\u001b[0m\n\u001b[1;31mIndentationError\u001b[0m\u001b[1;31m:\u001b[0m unindent does not match any outer indentation level\n"
     ]
    }
   ],
   "source": [
    "# ADD A NEW RULE TO THE PIPELINE\n",
    "def set_custom_boundaries(doc):\n",
    "    for token in doc[:-1]:\n",
    "        if token.text == ';':\n",
    "            doc[token.i+1].is_sent_start = True\n",
    "     return doc\n",
    "\n",
    "nlp.add_pipe(set_custom_boundaries, before='parser')\n",
    "\n",
    "nlp.pipe_names"
   ]
  },
  {
   "cell_type": "code",
   "execution_count": null,
   "id": "9872b78e-cffd-4b47-8c1a-fc7b92d8b041",
   "metadata": {},
   "outputs": [],
   "source": []
  }
 ],
 "metadata": {
  "kernelspec": {
   "display_name": "Python 3 (ipykernel)",
   "language": "python",
   "name": "python3"
  },
  "language_info": {
   "codemirror_mode": {
    "name": "ipython",
    "version": 3
   },
   "file_extension": ".py",
   "mimetype": "text/x-python",
   "name": "python",
   "nbconvert_exporter": "python",
   "pygments_lexer": "ipython3",
   "version": "3.12.3"
  }
 },
 "nbformat": 4,
 "nbformat_minor": 5
}
