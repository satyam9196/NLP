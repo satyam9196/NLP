{
 "cells": [
  {
   "cell_type": "markdown",
   "id": "3d7cd026-1eb8-4e41-bee0-14d0e1a9c600",
   "metadata": {},
   "source": [
    "Stemming\n",
    "\n",
    "often when searching text for a certain keyword,it helps if the search returns variations of the wors. Fpr instance,seraching for \"boat\" \n",
    "might also return \"boats\" and \"boating\". Here \"boat\" would be the stem for [boat,boater,boating,boats].\n",
    "\n",
    "in short Stemming meang to finding Root Word."
   ]
  },
  {
   "cell_type": "code",
   "execution_count": 1,
   "id": "abe7f43a-5088-4a63-9f2c-977d614b9dda",
   "metadata": {},
   "outputs": [],
   "source": [
    "# Import the toolkit and the full Porter Stemer Library\n",
    "import nltk    #nltk is library\n",
    "\n",
    "from nltk.stem.porter import PorterStemmer"
   ]
  },
  {
   "cell_type": "code",
   "execution_count": 2,
   "id": "4cfcf690-a41f-426c-9ac2-40dd424dd606",
   "metadata": {},
   "outputs": [],
   "source": [
    "p_stemmer = PorterStemmer()"
   ]
  },
  {
   "cell_type": "code",
   "execution_count": 3,
   "id": "ffdc69eb-5b22-4c4d-bf08-19363525d534",
   "metadata": {},
   "outputs": [],
   "source": [
    "words = ['run', 'runner', 'running', 'ran', 'runs', 'easily', 'fairly']"
   ]
  },
  {
   "cell_type": "code",
   "execution_count": 4,
   "id": "e8b7dd76-974f-407c-bb4c-4ccb35e7c7f3",
   "metadata": {},
   "outputs": [
    {
     "name": "stdout",
     "output_type": "stream",
     "text": [
      "run --> run\n",
      "runner --> runner\n",
      "running --> run\n",
      "ran --> ran\n",
      "runs --> run\n",
      "easily --> easili\n",
      "fairly --> fairli\n"
     ]
    }
   ],
   "source": [
    "for word in words:\n",
    "    print(word+' --> '+p_stemmer.stem(word))"
   ]
  },
  {
   "cell_type": "markdown",
   "id": "fc095080-7d66-44c9-9697-77a3d34b5faa",
   "metadata": {},
   "source": [
    "Snowball Stemmer"
   ]
  },
  {
   "cell_type": "code",
   "execution_count": 5,
   "id": "9a0eeaf2-1fbb-426c-b8f1-9c6ee78ad7ec",
   "metadata": {},
   "outputs": [],
   "source": [
    "from nltk.stem.snowball import SnowballStemmer\n",
    "\n",
    "#The Snowball Stemmer requires that you pass a language parameter\n",
    "s_stemmer = SnowballStemmer(language='english')"
   ]
  },
  {
   "cell_type": "code",
   "execution_count": 6,
   "id": "58f76aef-d974-4ae8-bdf2-bb2a12b1cf86",
   "metadata": {},
   "outputs": [],
   "source": [
    "#words = ['run', 'runner', 'running', 'ran', 'runs', 'easily', 'fairly']\n",
    "words = ['generous', 'generation', 'generously', 'generate']"
   ]
  },
  {
   "cell_type": "code",
   "execution_count": 7,
   "id": "63aa60aa-2b66-4bd9-be22-11e6d0887cc8",
   "metadata": {},
   "outputs": [
    {
     "name": "stdout",
     "output_type": "stream",
     "text": [
      "generous --> generous\n",
      "generation --> generat\n",
      "generously --> generous\n",
      "generate --> generat\n"
     ]
    }
   ],
   "source": [
    "for word in words:\n",
    "    print(word+' --> '+s_stemmer.stem(word))"
   ]
  },
  {
   "cell_type": "code",
   "execution_count": 8,
   "id": "00d7605a-358f-4408-837d-c542ac3b6915",
   "metadata": {},
   "outputs": [],
   "source": [
    "words = ['consolingly']"
   ]
  },
  {
   "cell_type": "code",
   "execution_count": 9,
   "id": "5bd47c6b-f3f5-49c6-a9bb-0d136bf511a7",
   "metadata": {},
   "outputs": [
    {
     "name": "stdout",
     "output_type": "stream",
     "text": [
      "Porter Stemmer:\n",
      "consolingly---> consolingli\n"
     ]
    }
   ],
   "source": [
    "print('Porter Stemmer:')\n",
    "for word in words:\n",
    "    print(word+'---> '+p_stemmer.stem(word))"
   ]
  },
  {
   "cell_type": "code",
   "execution_count": 10,
   "id": "f2e5ea72-fd7a-4043-afe7-2d6490c85c3e",
   "metadata": {},
   "outputs": [
    {
     "name": "stdout",
     "output_type": "stream",
     "text": [
      "Snowball Stemmer:\n",
      "consolingly--> consol\n"
     ]
    }
   ],
   "source": [
    "print('Snowball Stemmer:')\n",
    "for word in words:\n",
    "    print(word+'--> '+s_stemmer.stem(word))"
   ]
  },
  {
   "cell_type": "code",
   "execution_count": 11,
   "id": "a8b99a7a-d0b5-42bc-a555-e6c7d135bc77",
   "metadata": {},
   "outputs": [
    {
     "name": "stdout",
     "output_type": "stream",
     "text": [
      "I --->i\n",
      "am --->am\n",
      "meeting --->meet\n",
      "his --->hi\n",
      "tomorrow --->tomorrow\n",
      "at --->at\n",
      "the --->the\n",
      "meeting --->meet\n"
     ]
    }
   ],
   "source": [
    "phrase = 'I am meeting his tomorrow at the meeting'\n",
    "for word in phrase.split():\n",
    "    print(word+' --->' +p_stemmer.stem(word))"
   ]
  },
  {
   "cell_type": "code",
   "execution_count": null,
   "id": "1905931f-0237-451c-aea6-2ba36ead630c",
   "metadata": {},
   "outputs": [],
   "source": []
  }
 ],
 "metadata": {
  "kernelspec": {
   "display_name": "Python 3 (ipykernel)",
   "language": "python",
   "name": "python3"
  },
  "language_info": {
   "codemirror_mode": {
    "name": "ipython",
    "version": 3
   },
   "file_extension": ".py",
   "mimetype": "text/x-python",
   "name": "python",
   "nbconvert_exporter": "python",
   "pygments_lexer": "ipython3",
   "version": "3.12.3"
  }
 },
 "nbformat": 4,
 "nbformat_minor": 5
}
