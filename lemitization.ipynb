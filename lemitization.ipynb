{
 "cells": [
  {
   "cell_type": "code",
   "execution_count": 1,
   "id": "a4afb80b-46e4-4856-85e7-014a6eca436a",
   "metadata": {},
   "outputs": [],
   "source": [
    "import spacy\n",
    "nlp = spacy.load('en_core_web_sm')"
   ]
  },
  {
   "cell_type": "code",
   "execution_count": 2,
   "id": "1be38bdc-12d9-4ba0-a9f6-251b39784178",
   "metadata": {},
   "outputs": [],
   "source": [
    "doc1 = nlp(u\"I am a runner running in a race because I love to run since I ran today\")"
   ]
  },
  {
   "cell_type": "code",
   "execution_count": 3,
   "id": "b59c2b73-f652-41d7-bdd0-ecd79c63811e",
   "metadata": {},
   "outputs": [
    {
     "name": "stdout",
     "output_type": "stream",
     "text": [
      "I \t PRON \t 4690420944186131903 \t I\n",
      "am \t AUX \t 10382539506755952630 \t be\n",
      "a \t DET \t 11901859001352538922 \t a\n",
      "runner \t NOUN \t 12640964157389618806 \t runner\n",
      "running \t VERB \t 12767647472892411841 \t run\n",
      "in \t ADP \t 3002984154512732771 \t in\n",
      "a \t DET \t 11901859001352538922 \t a\n",
      "race \t NOUN \t 8048469955494714898 \t race\n",
      "because \t SCONJ \t 16950148841647037698 \t because\n",
      "I \t PRON \t 4690420944186131903 \t I\n",
      "love \t VERB \t 3702023516439754181 \t love\n",
      "to \t PART \t 3791531372978436496 \t to\n",
      "run \t VERB \t 12767647472892411841 \t run\n",
      "since \t SCONJ \t 10066841407251338481 \t since\n",
      "I \t PRON \t 4690420944186131903 \t I\n",
      "ran \t VERB \t 12767647472892411841 \t run\n",
      "today \t NOUN \t 11042482332948150395 \t today\n"
     ]
    }
   ],
   "source": [
    "for token in doc1:\n",
    "    print(token.text, '\\t', token.pos_, '\\t', token.lemma, '\\t',token.lemma_)"
   ]
  },
  {
   "cell_type": "code",
   "execution_count": 4,
   "id": "abebfc6a-c0ea-4057-8f79-37835e08364e",
   "metadata": {},
   "outputs": [],
   "source": [
    "def show_lemmas(text):\n",
    "    for token in text:\n",
    "        print(f'{token.text:{12}} {token.pos_:{6}} {token.lemma:{22}} {token.lemma_}')"
   ]
  },
  {
   "cell_type": "markdown",
   "id": "e6ddda43-0566-4e99-ad91-3f3eab495a20",
   "metadata": {},
   "source": [
    "here we are using an f-string to format the printed text by setting minimum field widths and adding a\n",
    "left allign to the lemma hash value."
   ]
  },
  {
   "cell_type": "code",
   "execution_count": 5,
   "id": "67bcc7ec-f264-4873-9be6-d68574ccb181",
   "metadata": {},
   "outputs": [
    {
     "name": "stdout",
     "output_type": "stream",
     "text": [
      "I            PRON      4690420944186131903 I\n",
      "saw          VERB     11925638236994514241 see\n",
      "eighteen     NUM       9609336664675087640 eighteen\n",
      "mice         NOUN      1384165645700560590 mouse\n",
      "today        NOUN     11042482332948150395 today\n"
     ]
    }
   ],
   "source": [
    "doc2 = nlp(u\"I saw eighteen mice today\")\n",
    "\n",
    "show_lemmas(doc2)"
   ]
  },
  {
   "cell_type": "code",
   "execution_count": 7,
   "id": "a4ff0016-2b1f-4224-b95a-b18fdf919a85",
   "metadata": {},
   "outputs": [
    {
     "name": "stdout",
     "output_type": "stream",
     "text": [
      "I            PRON      4690420944186131903 I\n",
      "am           AUX      10382539506755952630 be\n",
      "meeting      VERB      6880656908171229526 meet\n",
      "him          PRON      1655312771067108281 he\n",
      "tomorrow     NOUN      3573583789758258062 tomorrow\n",
      "at           ADP      11667289587015813222 at\n",
      "the          DET       7425985699627899538 the\n",
      "meeting      NOUN     14798207169164081740 meeting\n",
      ".            PUNCT    12646065887601541794 .\n"
     ]
    }
   ],
   "source": [
    "doc3 = nlp(u\"I am meeting him tomorrow at the meeting.\")\n",
    "\n",
    "show_lemmas(doc3)"
   ]
  },
  {
   "cell_type": "code",
   "execution_count": 8,
   "id": "95beea45-776a-4dfe-8bab-77609d570617",
   "metadata": {},
   "outputs": [
    {
     "name": "stdout",
     "output_type": "stream",
     "text": [
      "That         PRON      4380130941430378203 that\n",
      "s            VERB     16978132545290669629 s\n",
      "an           DET      15099054000809333061 an\n",
      "enormous     ADJ      17917224542039855524 enormous\n",
      "automobile   NOUN      7211811266693931283 automobile\n"
     ]
    }
   ],
   "source": [
    "doc4 = nlp(u\"Thats an enormous automobile\")\n",
    "\n",
    "show_lemmas(doc4)"
   ]
  },
  {
   "cell_type": "code",
   "execution_count": null,
   "id": "c78ebc6e-bef3-4d3a-a1ff-0bee1ba9ed03",
   "metadata": {},
   "outputs": [],
   "source": []
  }
 ],
 "metadata": {
  "kernelspec": {
   "display_name": "Python 3 (ipykernel)",
   "language": "python",
   "name": "python3"
  },
  "language_info": {
   "codemirror_mode": {
    "name": "ipython",
    "version": 3
   },
   "file_extension": ".py",
   "mimetype": "text/x-python",
   "name": "python",
   "nbconvert_exporter": "python",
   "pygments_lexer": "ipython3",
   "version": "3.12.3"
  }
 },
 "nbformat": 4,
 "nbformat_minor": 5
}
